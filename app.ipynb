{
 "cells": [
  {
   "cell_type": "code",
   "execution_count": 4,
   "id": "443ec935",
   "metadata": {},
   "outputs": [],
   "source": [
    "from fastapi import FastAPI\n",
    "from pydantic import BaseModel\n",
    "from typing import List, Optional\n",
    "from langchain_community.tools.tavily_search import TavilySearchResults\n",
    "import os\n",
    "from langgraph.prebuilt import create_react_agent\n",
    "from langchain_groq import ChatGroq"
   ]
  },
  {
   "cell_type": "code",
   "execution_count": 8,
   "id": "23093e16",
   "metadata": {},
   "outputs": [],
   "source": [
    "import os\n",
    "\n",
    "groq_api_key = os.getenv(\"GROQ_API_KEY\")\n",
    "os.environ[\"TAVILY_API_KEY\"] = \"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\"\n",
    "\n",
    "MODEL_NAMES = [\n",
    "    \"llama3-70b-8192\",\n",
    "    \"mixtral-8x7b-32768\"\n",
    "]\n",
    "\n",
    "tool_tavily = TavilySearchResults(max_results=2, api_key=os.getenv(\"TAVILY_API_KEY\"))\n",
    "\n",
    "tools = [tool_tavily]"
   ]
  },
  {
   "cell_type": "code",
   "execution_count": 9,
   "id": "868b88c3",
   "metadata": {},
   "outputs": [],
   "source": [
    "app = FastAPI(title=\"Langraph AI Agent\")\n",
    "\n",
    "class RequestState(BaseModel):\n",
    "    model_name: str\n",
    "    system_prompt: str \n",
    "    messages: List[str]\n",
    "\n",
    "\n",
    "@app.post(\"/chat\")\n",
    "def chat_endpoint(request: RequestState):\n",
    "    \"\"\"\n",
    "    API endpoint to interact with the chatbot using Langraph and tools.\n",
    "    Dynamically selects the model based on user input.\n",
    "    \"\"\"\n",
    "\n",
    "    if request.model_name not in MODEL_NAMES:\n",
    "        return {\"error\": f\"Model '{request.model_name}' is not supported. Choose from {MODEL_NAMES}.\"}\n",
    "\n",
    "    llm = ChatGroq(model_name=request.model_name, api_key=groq_api_key)\n",
    "\n",
    "    agent = create_react_agent(\n",
    "        llm=llm,\n",
    "        tools=tools,\n",
    "        system_message=request.system_prompt\n",
    "    )\n",
    "\n",
    "    state = {\"messages\": request.messages}\n",
    "\n",
    "    result = agent.invoke(state)\n",
    "\n",
    "    #conversation_history = [{\"role\": \"user\", \"content\": msg} for msg in request.messages]\n",
    "    #response = agent.invoke({\"input\": conversation_history})\n",
    "    #return {\"response\": response[\"output\"]}\n",
    "\n",
    "    return result"
   ]
  },
  {
   "cell_type": "code",
   "execution_count": null,
   "id": "82db9e81",
   "metadata": {},
   "outputs": [],
   "source": []
  }
 ],
 "metadata": {
  "kernelspec": {
   "display_name": ".venv",
   "language": "python",
   "name": "python3"
  },
  "language_info": {
   "codemirror_mode": {
    "name": "ipython",
    "version": 3
   },
   "file_extension": ".py",
   "mimetype": "text/x-python",
   "name": "python",
   "nbconvert_exporter": "python",
   "pygments_lexer": "ipython3",
   "version": "3.13.4"
  }
 },
 "nbformat": 4,
 "nbformat_minor": 5
}
