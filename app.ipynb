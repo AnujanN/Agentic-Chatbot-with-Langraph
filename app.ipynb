{
 "cells": [
  {
   "cell_type": "code",
   "execution_count": 4,
   "id": "443ec935",
   "metadata": {},
   "outputs": [],
   "source": [
    "from fastapi import FastAPI\n",
    "from pydantic import BaseModel\n",
    "from typing import List, Optional\n",
    "from langchain_community.tools.tavily_search import TavilySearchResults\n",
    "import os\n",
    "from langgraph.prebuilt import create_react_agent\n",
    "from langchain_groq import ChatGroq"
   ]
  },
  {
   "cell_type": "code",
   "execution_count": 8,
   "id": "23093e16",
   "metadata": {},
   "outputs": [],
   "source": [
    "import os\n",
    "\n",
    "groq_api_key = os.getenv(\"GROQ_API_KEY\")\n",
    "os.environ[\"TAVILY_API_KEY\"] = \"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\"\n",
    "\n",
    "MODEL_NAMES = [\n",
    "    \"llama3-70b-8192\",\n",
    "    \"mixtral-8x7b-32768\"\n",
    "]\n",
    "\n",
    "tool_tavily = TavilySearchResults(max_results=2, api_key=os.getenv(\"TAVILY_API_KEY\"))\n",
    "\n",
    "tools = [tool_tavily]"
   ]
  },
  {
   "cell_type": "code",
   "execution_count": null,
   "id": "868b88c3",
   "metadata": {},
   "outputs": [],
   "source": []
  }
 ],
 "metadata": {
  "kernelspec": {
   "display_name": ".venv",
   "language": "python",
   "name": "python3"
  },
  "language_info": {
   "codemirror_mode": {
    "name": "ipython",
    "version": 3
   },
   "file_extension": ".py",
   "mimetype": "text/x-python",
   "name": "python",
   "nbconvert_exporter": "python",
   "pygments_lexer": "ipython3",
   "version": "3.13.4"
  }
 },
 "nbformat": 4,
 "nbformat_minor": 5
}
