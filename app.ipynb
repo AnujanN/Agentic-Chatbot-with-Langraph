{
 "cells": [
  {
   "cell_type": "code",
   "execution_count": 5,
   "id": "443ec935",
   "metadata": {},
   "outputs": [],
   "source": [
    "from fastapi import FastAPI\n",
    "from pydantic import BaseModel\n",
    "from typing import List, Optional\n",
    "from langchain_community.tools.tavily_search import TavilySearchResults\n",
    "import os\n",
    "from langgraph.prebuilt import create_react_agent\n",
    "from langchain_groq import ChatGroq"
   ]
  },
  {
   "cell_type": "code",
   "execution_count": 6,
   "id": "eea29a4b",
   "metadata": {},
   "outputs": [
    {
     "name": "stdout",
     "output_type": "stream",
     "text": [
      "✅ GROQ API key found\n"
     ]
    }
   ],
   "source": [
    "import os\n",
    "\n",
    "groq_api_key = os.getenv(\"GROQ_API_KEY\")\n",
    "if not groq_api_key:\n",
    "    print(\"⚠️  WARNING: GROQ_API_KEY not found!\")\n",
    "else:\n",
    "    print(\"✅ GROQ API key found\")\n",
    "\n",
    "os.environ[\"TAVILY_API_KEY\"] = \"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\"\n",
    "\n",
    "MODEL_NAMES = [\n",
    "    \"llama-3.3-70b-versatile\",  # replacement for llama3-70b-8192\n",
    "    \"llama-3.1-8b-instant\"       # replacement for llama3-8b-8192\n",
    "]\n",
    "\n",
    "\n",
    "tool_tavily = TavilySearchResults(max_results=2, api_key=os.getenv(\"TAVILY_API_KEY\"))\n",
    "\n",
    "tools = [tool_tavily]\n",
    "\n"
   ]
  },
  {
   "cell_type": "code",
   "execution_count": 7,
   "id": "330e1c64",
   "metadata": {},
   "outputs": [],
   "source": [
    "app = FastAPI(title=\"Langraph AI Agent\")\n",
    "\n",
    "class RequestState(BaseModel):\n",
    "    model_name: str\n",
    "    system_prompt: str \n",
    "    messages: List[str]\n",
    "\n",
    "\n",
    "@app.post(\"/chat\")\n",
    "def chat_endpoint(request: RequestState):\n",
    "    if request.model_name not in MODEL_NAMES:\n",
    "        return {\"error\": f\"Model '{request.model_name}' is not supported. Choose from {MODEL_NAMES}.\"}\n",
    "\n",
    "    llm = ChatGroq(model_name=request.model_name, api_key=groq_api_key)\n",
    "\n",
    "    agent = create_react_agent(\n",
    "        model=llm,\n",
    "        tools=tools\n",
    "    )\n",
    "\n",
    "    state = {\n",
    "        \"messages\": [{\"role\": \"system\", \"content\": request.system_prompt}]\n",
    "                   + [{\"role\": \"user\", \"content\": msg} for msg in request.messages]\n",
    "    }\n",
    "\n",
    "    result = agent.invoke(state)\n",
    "    return result\n"
   ]
  },
  {
   "cell_type": "code",
   "execution_count": 8,
   "id": "4b2aa0e7",
   "metadata": {},
   "outputs": [
    {
     "name": "stderr",
     "output_type": "stream",
     "text": [
      "INFO:     Started server process [12508]\n",
      "INFO:     Waiting for application startup.\n",
      "INFO:     Application startup complete.\n",
      "INFO:     Uvicorn running on http://127.0.0.1:8000 (Press CTRL+C to quit)\n",
      "INFO:     Waiting for application startup.\n",
      "INFO:     Application startup complete.\n",
      "INFO:     Uvicorn running on http://127.0.0.1:8000 (Press CTRL+C to quit)\n",
      "INFO:     Shutting down\n",
      "INFO:     Shutting down\n",
      "INFO:     Waiting for application shutdown.\n",
      "INFO:     Application shutdown complete.\n",
      "INFO:     Finished server process [12508]\n",
      "INFO:     Waiting for application shutdown.\n",
      "INFO:     Application shutdown complete.\n",
      "INFO:     Finished server process [12508]\n"
     ]
    }
   ],
   "source": [
    "if __name__ == \"__main__\":\n",
    "    import uvicorn\n",
    "    import asyncio\n",
    "    \n",
    "    config = uvicorn.Config(app, host=\"127.0.0.1\", port=8000)\n",
    "    server = uvicorn.Server(config)\n",
    "    \n",
    "    # Run the server asynchronously in Jupyter\n",
    "    await server.serve()"
   ]
  },
  {
   "cell_type": "code",
   "execution_count": null,
   "id": "aba9b7d4",
   "metadata": {},
   "outputs": [],
   "source": []
  }
 ],
 "metadata": {
  "kernelspec": {
   "display_name": ".venv",
   "language": "python",
   "name": "python3"
  },
  "language_info": {
   "codemirror_mode": {
    "name": "ipython",
    "version": 3
   },
   "file_extension": ".py",
   "mimetype": "text/x-python",
   "name": "python",
   "nbconvert_exporter": "python",
   "pygments_lexer": "ipython3",
   "version": "3.13.4"
  }
 },
 "nbformat": 4,
 "nbformat_minor": 5
}
